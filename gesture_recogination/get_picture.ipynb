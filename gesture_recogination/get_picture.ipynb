{
 "cells": [
  {
   "cell_type": "code",
   "execution_count": null,
   "metadata": {},
   "outputs": [],
   "source": []
  },
  {
   "cell_type": "code",
   "execution_count": 5,
   "metadata": {},
   "outputs": [
    {
     "ename": "ModuleNotFoundError",
     "evalue": "No module named 'cv2'",
     "output_type": "error",
     "traceback": [
      "\u001b[1;31m---------------------------------------------------------------------------\u001b[0m",
      "\u001b[1;31mModuleNotFoundError\u001b[0m                       Traceback (most recent call last)",
      "\u001b[1;32m<ipython-input-5-49f4a1c6f7ee>\u001b[0m in \u001b[0;36m<module>\u001b[1;34m\u001b[0m\n\u001b[1;32m----> 1\u001b[1;33m \u001b[1;32mimport\u001b[0m \u001b[0mcv2\u001b[0m\u001b[1;33m\u001b[0m\u001b[1;33m\u001b[0m\u001b[0m\n\u001b[0m\u001b[0;32m      2\u001b[0m \u001b[1;32mfrom\u001b[0m \u001b[0mcv2\u001b[0m \u001b[1;32mimport\u001b[0m \u001b[0mdnn\u001b[0m\u001b[1;33m\u001b[0m\u001b[1;33m\u001b[0m\u001b[0m\n\u001b[0;32m      3\u001b[0m \u001b[1;32mimport\u001b[0m \u001b[0mnumpy\u001b[0m \u001b[1;32mas\u001b[0m \u001b[0mnp\u001b[0m\u001b[1;33m\u001b[0m\u001b[1;33m\u001b[0m\u001b[0m\n\u001b[0;32m      4\u001b[0m \u001b[0mprint\u001b[0m\u001b[1;33m(\u001b[0m\u001b[0mcv2\u001b[0m\u001b[1;33m.\u001b[0m\u001b[0m__version__\u001b[0m\u001b[1;33m)\u001b[0m\u001b[1;33m\u001b[0m\u001b[1;33m\u001b[0m\u001b[0m\n\u001b[0;32m      5\u001b[0m \u001b[0mclass_name\u001b[0m \u001b[1;33m=\u001b[0m \u001b[1;33m[\u001b[0m\u001b[1;34m'0'\u001b[0m\u001b[1;33m,\u001b[0m \u001b[1;34m'1'\u001b[0m\u001b[1;33m,\u001b[0m \u001b[1;34m'2'\u001b[0m\u001b[1;33m,\u001b[0m \u001b[1;34m'3'\u001b[0m\u001b[1;33m,\u001b[0m \u001b[1;34m'4'\u001b[0m\u001b[1;33m,\u001b[0m \u001b[1;34m'5'\u001b[0m\u001b[1;33m,\u001b[0m \u001b[1;34m'6'\u001b[0m\u001b[1;33m,\u001b[0m \u001b[1;34m'7'\u001b[0m\u001b[1;33m,\u001b[0m \u001b[1;34m'8'\u001b[0m\u001b[1;33m,\u001b[0m \u001b[1;34m'9'\u001b[0m\u001b[1;33m]\u001b[0m\u001b[1;33m\u001b[0m\u001b[1;33m\u001b[0m\u001b[0m\n",
      "\u001b[1;31mModuleNotFoundError\u001b[0m: No module named 'cv2'"
     ]
    }
   ],
   "source": [
    "import cv2\n",
    "from cv2 import dnn\n",
    "import numpy as np\n",
    "print(cv2.__version__)\n",
    "class_name = ['0', '1', '2', '3', '4', '5', '6', '7', '8', '9']\n",
    "net = dnn.readNetFromTensorflow(r'D:\\\\Code-class\\\\gesture_recogination\\\\model\\\\frozen_model\\\\frozen_graph.pb')\n",
    "cap = cv2.VideoCapture(0)\n",
    "i = 0\n",
    "while True:\n",
    "    _,frame= cap.read() \n",
    "    src_image = frame\n",
    "    cv2.rectangle(src_image, (300, 100),(600, 400), (0, 255, 0), 1, 4)\n",
    "    frame = cv2.cvtColor(frame,cv2.COLOR_BGR2RGB)\n",
    "    pic = frame[100:400,300:600]\n",
    "    cv2.imshow(\"pic1\", pic)\n",
    "    print(pic.shape)\n",
    "    pic = cv2.resize(pic,(100,100))\n",
    "    blob = cv2.dnn.blobFromImage(pic,scalefactor=1.0/225.,size=(100, 100),mean=(0, 0, 0),swapRB=False,crop=False)\n",
    "    #blob = np.transpose(blob, (0,2,3,1))                         \n",
    "    net.setInput(blob)\n",
    "    out = net.forward()\n",
    "    out = out.flatten()\n",
    "\n",
    "    classId = np.argmax(out)\n",
    "    print(\"classId\",classId)\n",
    "    print(\"预测结果为：\",class_name[classId])\n",
    "    src_image =\tcv2.putText(src_image,str(classId),(300,100), cv2.FONT_HERSHEY_SIMPLEX, 2,(0,0,255),2,4)\n",
    "    #cv.putText(img, text, org, fontFace, fontScale, fontcolor, thickness, lineType)\n",
    "    cv2.imshow(\"pic\",src_image)\n",
    "    if cv2.waitKey(10) == ord('0'):\n",
    "        break\n",
    "\n"
   ]
  },
  {
   "cell_type": "code",
   "execution_count": null,
   "metadata": {},
   "outputs": [],
   "source": []
  },
  {
   "cell_type": "code",
   "execution_count": null,
   "metadata": {},
   "outputs": [],
   "source": []
  }
 ],
 "metadata": {
  "kernelspec": {
   "display_name": "Python 3",
   "language": "python",
   "name": "python3"
  },
  "language_info": {
   "codemirror_mode": {
    "name": "ipython",
    "version": 3
   },
   "file_extension": ".py",
   "mimetype": "text/x-python",
   "name": "python",
   "nbconvert_exporter": "python",
   "pygments_lexer": "ipython3",
   "version": "3.7.6"
  }
 },
 "nbformat": 4,
 "nbformat_minor": 4
}
