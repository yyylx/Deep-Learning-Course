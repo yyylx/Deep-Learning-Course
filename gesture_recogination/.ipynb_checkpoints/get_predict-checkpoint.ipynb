{
 "cells": [
  {
   "cell_type": "code",
   "execution_count": 1,
   "metadata": {},
   "outputs": [
    {
     "ename": "SyntaxError",
     "evalue": "invalid syntax (<ipython-input-1-79831d7f5974>, line 50)",
     "output_type": "error",
     "traceback": [
      "\u001b[1;36m  File \u001b[1;32m\"<ipython-input-1-79831d7f5974>\"\u001b[1;36m, line \u001b[1;32m50\u001b[0m\n\u001b[1;33m    while True\u001b[0m\n\u001b[1;37m              ^\u001b[0m\n\u001b[1;31mSyntaxError\u001b[0m\u001b[1;31m:\u001b[0m invalid syntax\n"
     ]
    }
   ],
   "source": [
    "import tensorflow as tf\n",
    "from tensorflow import keras\n",
    "from tensorflow.keras import datasets, layers, optimizers, Sequential, metrics\n",
    "from tensorflow.python.framework.convert_to_constants import convert_variables_to_constants_v2\n",
    "import os\n",
    "import pathlib\n",
    "import random\n",
    "import matplotlib.pyplot as plt\n",
    "import cv2 as cv\n",
    "import numpy as np\n",
    "os.environ['TF_CPP_MIN_LOG_LEVEL'] = '2'\n",
    "\n",
    "\n",
    "def get_roi(frame, x1, x2, y1, y2):\n",
    "    dst = frame[y1:y2, x1:x2]\n",
    "    cv.rectangle(frame, (x1, y1), (x2, y2), (0, 0, 255), thickness=2)\n",
    "    return dst\n",
    "\n",
    "def get_image(image, network):\n",
    "\n",
    "    # image = tf.image.decode_jpeg(image, channels=3)\n",
    "    # image = tf.expand_dims(image, axis=2)  # 扩维度,让单通道图片可以resize\n",
    "    print(\"image.shape =  \", image.shape)\n",
    "    image = tf.image.resize(image, [100, 100])\n",
    "    # image = cv.resize(image, (100, 100))\n",
    "    # image = image.reshape(-1, 100, 100,  1)\n",
    "    image1 = image / 255.0  # normalize to [0,1] range\n",
    "    image1 = tf.expand_dims(image1, axis=0)\n",
    "    # print(image1.shape)\n",
    "    pred = network(image1)\n",
    "    print(\"预测结果原始结果\", pred)\n",
    "    print()\n",
    "    pred = tf.nn.softmax(pred['output_1'], axis=1)\n",
    "    print(\"预测softmax后\", pred)\n",
    "    pred = tf.argmax(pred, axis=1)\n",
    "    print(\"最终测试结果\", pred.numpy())\n",
    "    cv.putText(frame, \"Predicted results = :\" + str(pred.numpy()), (100, 400), cv.FONT_HERSHEY_SIMPLEX,\n",
    "               1, [0, 255, 255])\n",
    "\n",
    "if __name__ == \"__main__\":\n",
    "\n",
    "    capture = cv.VideoCapture(0)\n",
    "    creatTrackbar()\n",
    "    channels = 3\n",
    "    DEFAULT_FUNCTION_KEY = \"serving_default\"\n",
    "    loaded = tf.saved_model.load('E:\\\\aiFile\\\\model_save\\\\gesture_recognition_model\\\\gestureModel_one\\\\')\n",
    "    network = loaded.signatures[DEFAULT_FUNCTION_KEY]\n",
    "    print(list(loaded.signatures.keys()))\n",
    "    print('加载 weights 成功')\n",
    "    while True:\n",
    "        ret, frame = capture.read()\n",
    "        roi = get_roi(frame, 100, 250, 100, 250)\n",
    "        cv.imshow(\"roi\", roi)\n",
    "        get_image(roi, network)\n",
    "        cv.imshow(\"frame\", frame)\n",
    "        c = cv.waitKey(50)\n",
    "        if c == 27:\n",
    "            break\n",
    "    cv.waitKey(0)\n",
    "    capture.release()\n",
    "    cv.destroyAllWindows()\n",
    "\n"
   ]
  },
  {
   "cell_type": "code",
   "execution_count": null,
   "metadata": {},
   "outputs": [],
   "source": []
  },
  {
   "cell_type": "code",
   "execution_count": null,
   "metadata": {},
   "outputs": [],
   "source": []
  }
 ],
 "metadata": {
  "kernelspec": {
   "display_name": "Python 3",
   "language": "python",
   "name": "python3"
  },
  "language_info": {
   "codemirror_mode": {
    "name": "ipython",
    "version": 3
   },
   "file_extension": ".py",
   "mimetype": "text/x-python",
   "name": "python",
   "nbconvert_exporter": "python",
   "pygments_lexer": "ipython3",
   "version": "3.7.6"
  }
 },
 "nbformat": 4,
 "nbformat_minor": 4
}
